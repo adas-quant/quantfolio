{
 "cells": [
  {
   "metadata": {},
   "cell_type": "markdown",
   "source": [
    "# 📈 Black-Scholes Option Pricing Demo (Interactive)\n",
    "\n",
    "This notebook demonstrates how to price European Call and Put options using the **Black-Scholes model**, implemented via **QuantLib**.\n",
    "We use interactive sliders to experiment with key parameters like volatility, interest rate, and time to maturity.\n",
    "\n",
    "---\n"
   ],
   "id": "e01e55ba782457cf"
  },
  {
   "metadata": {},
   "cell_type": "markdown",
   "source": [
    "## 🧠 What is the Black-Scholes Model?\n",
    "\n",
    "The **Black-Scholes Model (BSM)** is a mathematical framework used to estimate the theoretical price of European-style options.\n",
    "It assumes a log-normal distribution of asset prices and constant volatility and interest rate.\n",
    "\n",
    "### ⚙️ Core Formula:\n",
    "\n",
    "For a Call Option:\n",
    "$$ C = S_0 N(d_1) - K e^{-rT} N(d_2) $$\n",
    "\n",
    "For a Put Option:\n",
    "$$ P = K e^{-rT} N(-d_2) - S_0 N(-d_1) $$\n",
    "\n",
    "Where:\n",
    "- \\( S_0 \\): Spot price\n",
    "- \\( K \\): Strike price\n",
    "- \\( T \\): Time to maturity (in years)\n",
    "- \\( r \\): Risk-free interest rate\n",
    "- \\( \\sigma \\): Volatility of the underlying\n",
    "- \\( N \\): Cumulative distribution function of the standard normal distribution\n",
    "\n",
    "> We'll be using QuantLib's `BlackScholesMertonProcess` and `EuropeanOption` classes to perform this calculation.\n",
    "\n",
    "---\n"
   ],
   "id": "86fc0fb8f6e7471b"
  },
  {
   "metadata": {
    "ExecuteTime": {
     "end_time": "2025-06-29T08:34:22.056302Z",
     "start_time": "2025-06-29T08:34:21.944442Z"
    }
   },
   "cell_type": "code",
   "outputs": [],
   "execution_count": 2,
   "source": [
    "import QuantLib as ql\n",
    "import ipywidgets as widgets\n",
    "from IPython.display import display"
   ],
   "id": "a308e2a7c761ad73"
  },
  {
   "metadata": {
    "ExecuteTime": {
     "end_time": "2025-06-29T08:39:26.185881Z",
     "start_time": "2025-06-29T08:39:26.163655Z"
    }
   },
   "cell_type": "code",
   "outputs": [],
   "execution_count": 3,
   "source": [
    "def price_european_option(option_type, S, K, T, r, sigma):\n",
    "    maturity_date = ql.Date().todaysDate() + int(T * 365)\n",
    "    calendar = ql.TARGET()\n",
    "    day_count = ql.Actual365Fixed()\n",
    "\n",
    "    spot_handle = ql.QuoteHandle(ql.SimpleQuote(S))\n",
    "    flat_ts = ql.YieldTermStructureHandle(ql.FlatForward(0, calendar, r, day_count))\n",
    "    flat_vol_ts = ql.BlackVolTermStructureHandle(ql.BlackConstantVol(0, calendar, sigma, day_count))\n",
    "\n",
    "    bsm_process = ql.BlackScholesProcess(spot_handle, flat_ts, flat_vol_ts)\n",
    "\n",
    "    option_type_ql = ql.Option.Call if option_type == \"Call\" else ql.Option.Put\n",
    "    payoff = ql.PlainVanillaPayoff(option_type_ql, K)\n",
    "    exercise = ql.EuropeanExercise(maturity_date)\n",
    "    european_option = ql.VanillaOption(payoff, exercise)\n",
    "\n",
    "    european_option.setPricingEngine(ql.AnalyticEuropeanEngine(bsm_process))\n",
    "    return european_option.NPV()\n"
   ],
   "id": "a5207889fb5bc5f8"
  },
  {
   "metadata": {},
   "cell_type": "markdown",
   "source": [
    "## 🎛️ Interactive Inputs\n",
    "\n",
    "Use the sliders below to change:\n",
    "- Spot Price (S)\n",
    "- Strike Price (K)\n",
    "- Time to Maturity (T)\n",
    "- Interest Rate (r)\n",
    "- Volatility (σ)\n",
    "\n",
    "Select **Call or Put** from the dropdown to switch between option types.\n",
    "\n",
    "The output below shows the real-time price computed using the Black-Scholes model.\n",
    "\n",
    "---\n"
   ],
   "id": "b77e48f3533cc06e"
  },
  {
   "metadata": {
    "ExecuteTime": {
     "end_time": "2025-06-29T08:39:44.180048Z",
     "start_time": "2025-06-29T08:39:44.130125Z"
    }
   },
   "cell_type": "code",
   "source": [
    "option_type = widgets.Dropdown(options=['Call', 'Put'], description='Option:')\n",
    "S = widgets.FloatSlider(value=100, min=50, max=200, step=1, description='Spot (S):')\n",
    "K = widgets.FloatSlider(value=100, min=50, max=200, step=1, description='Strike (K):')\n",
    "T = widgets.FloatSlider(value=1, min=0.01, max=2, step=0.01, description='Time (T in years):')\n",
    "r = widgets.FloatSlider(value=0.05, min=0.0, max=0.15, step=0.005, description='Rate (r):')\n",
    "sigma = widgets.FloatSlider(value=0.2, min=0.05, max=1.0, step=0.01, description='Vol (σ):')\n",
    "\n",
    "ui = widgets.VBox([option_type, S, K, T, r, sigma])\n",
    "out = widgets.Output()\n",
    "\n",
    "def update_option_price(*args):\n",
    "    with out:\n",
    "        out.clear_output()\n",
    "        price = price_european_option(option_type.value, S.value, K.value, T.value, r.value, sigma.value)\n",
    "        print(f\"📈 {option_type.value} Option Price = ₹ {price:.2f}\")\n",
    "\n",
    "for widget in [option_type, S, K, T, r, sigma]:\n",
    "    widget.observe(update_option_price, names='value')\n",
    "\n",
    "display(ui, out)\n",
    "update_option_price()\n"
   ],
   "id": "a9888f937bd8c035",
   "outputs": [
    {
     "data": {
      "text/plain": [
       "VBox(children=(Dropdown(description='Option:', options=('Call', 'Put'), value='Call'), FloatSlider(value=100.0…"
      ],
      "application/vnd.jupyter.widget-view+json": {
       "version_major": 2,
       "version_minor": 0,
       "model_id": "208e2f8da50c4329b82fca7717aa852c"
      }
     },
     "metadata": {},
     "output_type": "display_data"
    },
    {
     "data": {
      "text/plain": [
       "Output()"
      ],
      "application/vnd.jupyter.widget-view+json": {
       "version_major": 2,
       "version_minor": 0,
       "model_id": "9f4ce744a5e0493385392d0f58a66022"
      }
     },
     "metadata": {},
     "output_type": "display_data"
    }
   ],
   "execution_count": 4
  },
  {
   "metadata": {},
   "cell_type": "markdown",
   "source": [
    "## 📊 Interpretation\n",
    "\n",
    "Once you adjust the sliders:\n",
    "- The **option price** displayed is the theoretical value as per the BSM model.\n",
    "- You can observe:\n",
    "  - How **increasing volatility** inflates option price (more uncertainty = more value).\n",
    "  - How **time decay** reduces price as T → 0.\n",
    "  - Effect of **interest rate** on Call/Put differently (Call ↑ with r, Put ↓).\n",
    "\n",
    "⚠️ Note: This is a **theoretical price**, assuming continuous trading, frictionless markets, and constant volatility — which often deviates in real-world conditions.\n",
    "\n",
    "---\n"
   ],
   "id": "23626af2a0b9dcaa"
  },
  {
   "metadata": {},
   "cell_type": "markdown",
   "source": [
    "## 📌 What's Next?\n",
    "\n",
    "We plan to extend this notebook with:\n",
    "- Real option chain comparison: **Market vs BSM**\n",
    "- Implied Volatility (IV) estimation from traded options\n",
    "- Monte Carlo simulation of payoff distribution\n",
    "- Greeks estimation: Delta, Gamma, Vega\n",
    "\n",
    "Stay tuned at 👉 [Quantfolio GitHub](https://github.com/adas-quant/quantfolio)\n",
    "\n",
    "---\n"
   ],
   "id": "7a430ff284f92944"
  },
  {
   "metadata": {},
   "cell_type": "code",
   "outputs": [],
   "execution_count": null,
   "source": "",
   "id": "4278c1d005acaaa6"
  }
 ],
 "metadata": {},
 "nbformat": 4,
 "nbformat_minor": 5
}
