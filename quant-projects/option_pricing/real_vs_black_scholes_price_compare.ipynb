{
 "cells": [
  {
   "metadata": {
    "ExecuteTime": {
     "end_time": "2025-06-29T12:53:33.039077Z",
     "start_time": "2025-06-29T12:53:32.484958Z"
    }
   },
   "cell_type": "code",
   "source": "import pandas as pd\n",
   "id": "960807f0c5bb747a",
   "outputs": [],
   "execution_count": 1
  },
  {
   "metadata": {
    "ExecuteTime": {
     "end_time": "2025-06-29T12:58:10.646380Z",
     "start_time": "2025-06-29T12:58:10.592725Z"
    }
   },
   "cell_type": "code",
   "source": [
    "# Load the uploaded option chain CSV\n",
    "file_path = \"/Users/arindamdas/Documents/Study Resource/Quant Finance/QuantProjects/quantfolio/quant-projects/option_pricing/nifty_option_chain.csv\"\n",
    "df = pd.read_csv(file_path)\n",
    "# Display basic info and first few rows\n",
    "df.info(), df.head()"
   ],
   "id": "3cb19b7ff13e34e4",
   "outputs": [
    {
     "name": "stdout",
     "output_type": "stream",
     "text": [
      "<class 'pandas.core.frame.DataFrame'>\n",
      "RangeIndex: 1378 entries, 0 to 1377\n",
      "Data columns (total 6 columns):\n",
      " #   Column  Non-Null Count  Dtype  \n",
      "---  ------  --------------  -----  \n",
      " 0   type    1378 non-null   object \n",
      " 1   expiry  1378 non-null   object \n",
      " 2   strike  1378 non-null   int64  \n",
      " 3   IV      1378 non-null   float64\n",
      " 4   LTP     1378 non-null   float64\n",
      " 5   Volume  1378 non-null   int64  \n",
      "dtypes: float64(2), int64(2), object(2)\n",
      "memory usage: 64.7+ KB\n"
     ]
    },
    {
     "data": {
      "text/plain": [
       "(None,\n",
       "    type       expiry  strike     IV      LTP  Volume\n",
       " 0  Call  03-Jul-2025   22800   0.00  2720.00       0\n",
       " 1   Put  03-Jul-2025   22800  33.56     0.90  503748\n",
       " 2  Call  03-Jul-2025   22850   0.00  2205.45       0\n",
       " 3   Put  03-Jul-2025   22850  32.81     0.85  139933\n",
       " 4  Call  03-Jul-2025   22900   0.00  2629.25       0)"
      ]
     },
     "execution_count": 3,
     "metadata": {},
     "output_type": "execute_result"
    }
   ],
   "execution_count": 3
  },
  {
   "metadata": {
    "ExecuteTime": {
     "end_time": "2025-06-29T13:01:04.355756Z",
     "start_time": "2025-06-29T13:01:04.305133Z"
    }
   },
   "cell_type": "code",
   "source": [
    "# Convert strike to int (if not already), and filter for 03-Jul-2025 expiry\n",
    "df[\"strike\"] = pd.to_numeric(df[\"strike\"], errors='coerce')\n",
    "df[\"expiry\"] = df[\"expiry\"].astype(str)\n",
    "\n",
    "# Define the spot price and strike range\n",
    "spot_price = 25637\n",
    "atm_strike = round(spot_price / 100) * 100  # nearest 100 = 25600\n",
    "strike_range = list(range(atm_strike - 1000, atm_strike + 1001, 100))\n",
    "# Filter for expiry = 03-Jul-2025 and required strikes\n",
    "filtered_df = df[\n",
    "    (df[\"expiry\"] == \"03-Jul-2025\") &\n",
    "    (df[\"strike\"].isin(strike_range))\n",
    "].copy()\n",
    "# Sort by strike and type for clarity\n",
    "filtered_df.sort_values(by=[\"strike\", \"type\"], inplace=True)\n",
    "\n",
    "filtered_df.reset_index(drop=True, inplace=True)\n",
    "filtered_df.head(10)\n"
   ],
   "id": "857f94d8f119b715",
   "outputs": [
    {
     "data": {
      "text/plain": [
       "   type       expiry  strike     IV      LTP  Volume\n",
       "0  Call  03-Jul-2025   24600   0.00  1061.05     327\n",
       "1   Put  03-Jul-2025   24600  17.65     6.40  239541\n",
       "2  Call  03-Jul-2025   24700   0.00   966.50     582\n",
       "3   Put  03-Jul-2025   24700  16.83     7.80  294764\n",
       "4  Call  03-Jul-2025   24800   0.00   869.10    1482\n",
       "5   Put  03-Jul-2025   24800  16.01     9.75  383746\n",
       "6  Call  03-Jul-2025   24900   0.00   772.00    1890\n",
       "7   Put  03-Jul-2025   24900  15.24    12.25  309912\n",
       "8  Call  03-Jul-2025   25000   0.00   671.50   25013\n",
       "9   Put  03-Jul-2025   25000  14.48    15.85  825030"
      ],
      "text/html": [
       "<div>\n",
       "<style scoped>\n",
       "    .dataframe tbody tr th:only-of-type {\n",
       "        vertical-align: middle;\n",
       "    }\n",
       "\n",
       "    .dataframe tbody tr th {\n",
       "        vertical-align: top;\n",
       "    }\n",
       "\n",
       "    .dataframe thead th {\n",
       "        text-align: right;\n",
       "    }\n",
       "</style>\n",
       "<table border=\"1\" class=\"dataframe\">\n",
       "  <thead>\n",
       "    <tr style=\"text-align: right;\">\n",
       "      <th></th>\n",
       "      <th>type</th>\n",
       "      <th>expiry</th>\n",
       "      <th>strike</th>\n",
       "      <th>IV</th>\n",
       "      <th>LTP</th>\n",
       "      <th>Volume</th>\n",
       "    </tr>\n",
       "  </thead>\n",
       "  <tbody>\n",
       "    <tr>\n",
       "      <th>0</th>\n",
       "      <td>Call</td>\n",
       "      <td>03-Jul-2025</td>\n",
       "      <td>24600</td>\n",
       "      <td>0.00</td>\n",
       "      <td>1061.05</td>\n",
       "      <td>327</td>\n",
       "    </tr>\n",
       "    <tr>\n",
       "      <th>1</th>\n",
       "      <td>Put</td>\n",
       "      <td>03-Jul-2025</td>\n",
       "      <td>24600</td>\n",
       "      <td>17.65</td>\n",
       "      <td>6.40</td>\n",
       "      <td>239541</td>\n",
       "    </tr>\n",
       "    <tr>\n",
       "      <th>2</th>\n",
       "      <td>Call</td>\n",
       "      <td>03-Jul-2025</td>\n",
       "      <td>24700</td>\n",
       "      <td>0.00</td>\n",
       "      <td>966.50</td>\n",
       "      <td>582</td>\n",
       "    </tr>\n",
       "    <tr>\n",
       "      <th>3</th>\n",
       "      <td>Put</td>\n",
       "      <td>03-Jul-2025</td>\n",
       "      <td>24700</td>\n",
       "      <td>16.83</td>\n",
       "      <td>7.80</td>\n",
       "      <td>294764</td>\n",
       "    </tr>\n",
       "    <tr>\n",
       "      <th>4</th>\n",
       "      <td>Call</td>\n",
       "      <td>03-Jul-2025</td>\n",
       "      <td>24800</td>\n",
       "      <td>0.00</td>\n",
       "      <td>869.10</td>\n",
       "      <td>1482</td>\n",
       "    </tr>\n",
       "    <tr>\n",
       "      <th>5</th>\n",
       "      <td>Put</td>\n",
       "      <td>03-Jul-2025</td>\n",
       "      <td>24800</td>\n",
       "      <td>16.01</td>\n",
       "      <td>9.75</td>\n",
       "      <td>383746</td>\n",
       "    </tr>\n",
       "    <tr>\n",
       "      <th>6</th>\n",
       "      <td>Call</td>\n",
       "      <td>03-Jul-2025</td>\n",
       "      <td>24900</td>\n",
       "      <td>0.00</td>\n",
       "      <td>772.00</td>\n",
       "      <td>1890</td>\n",
       "    </tr>\n",
       "    <tr>\n",
       "      <th>7</th>\n",
       "      <td>Put</td>\n",
       "      <td>03-Jul-2025</td>\n",
       "      <td>24900</td>\n",
       "      <td>15.24</td>\n",
       "      <td>12.25</td>\n",
       "      <td>309912</td>\n",
       "    </tr>\n",
       "    <tr>\n",
       "      <th>8</th>\n",
       "      <td>Call</td>\n",
       "      <td>03-Jul-2025</td>\n",
       "      <td>25000</td>\n",
       "      <td>0.00</td>\n",
       "      <td>671.50</td>\n",
       "      <td>25013</td>\n",
       "    </tr>\n",
       "    <tr>\n",
       "      <th>9</th>\n",
       "      <td>Put</td>\n",
       "      <td>03-Jul-2025</td>\n",
       "      <td>25000</td>\n",
       "      <td>14.48</td>\n",
       "      <td>15.85</td>\n",
       "      <td>825030</td>\n",
       "    </tr>\n",
       "  </tbody>\n",
       "</table>\n",
       "</div>"
      ]
     },
     "execution_count": 4,
     "metadata": {},
     "output_type": "execute_result"
    }
   ],
   "execution_count": 4
  },
  {
   "metadata": {
    "ExecuteTime": {
     "end_time": "2025-06-29T13:05:30.430693Z",
     "start_time": "2025-06-29T13:05:29.833667Z"
    }
   },
   "cell_type": "code",
   "source": [
    "from datetime import datetime\n",
    "from scipy.stats import norm\n",
    "import numpy as np\n",
    "\n",
    "# Get ATM option rows\n",
    "atm_strike = 25600\n",
    "atm_options = filtered_df[filtered_df[\"strike\"] == atm_strike]\n",
    "\n",
    "# Market LTPs and IVs for Call and Put\n",
    "call_row = atm_options[atm_options[\"type\"] == \"Call\"].iloc[0]\n",
    "put_row = atm_options[atm_options[\"type\"] == \"Put\"].iloc[0]\n",
    "\n"
   ],
   "id": "2e641f91811c4ce0",
   "outputs": [],
   "execution_count": 6
  },
  {
   "metadata": {
    "ExecuteTime": {
     "end_time": "2025-06-29T13:06:11.941641Z",
     "start_time": "2025-06-29T13:06:11.928478Z"
    }
   },
   "cell_type": "code",
   "source": [
    "S = spot_price\n",
    "K = atm_strike\n",
    "IV_call = call_row[\"IV\"] / 100 if call_row[\"IV\"] > 0 else 0.20  # fallback IV = 20%\n",
    "IV_put = put_row[\"IV\"] / 100 if put_row[\"IV\"] > 0 else 0.20\n",
    "LTP_call = call_row[\"LTP\"]\n",
    "LTP_put = put_row[\"LTP\"]\n",
    "r = 0.07\n",
    "today = datetime(2025, 6, 29)\n",
    "expiry = datetime.strptime(\"03-Jul-2025\", \"%d-%b-%Y\")\n",
    "T = (expiry - today).days / 365  # time to expiry in years"
   ],
   "id": "18ab5f02efefc1b0",
   "outputs": [],
   "execution_count": 7
  },
  {
   "metadata": {
    "ExecuteTime": {
     "end_time": "2025-06-29T13:08:10.699607Z",
     "start_time": "2025-06-29T13:08:10.684098Z"
    }
   },
   "cell_type": "code",
   "source": [
    "# Given values\n",
    "S = 25637                # Spot price\n",
    "K = 25600                # ATM Strike\n",
    "r = 0.07                 # Risk-free rate\n",
    "IV_call = 9.8 / 100      # From your data\n",
    "IV_put = 10.87 / 100     # From your data\n",
    "LTP_call = 170.0         # Market LTP (Call)\n",
    "LTP_put = 107.4          # Market LTP (Put)\n",
    "T = (datetime(2025, 7, 3) - datetime(2025, 6, 29)).days / 365  # Time to expiry in years\n"
   ],
   "id": "fadbe55a4e11c977",
   "outputs": [],
   "execution_count": 8
  },
  {
   "metadata": {
    "ExecuteTime": {
     "end_time": "2025-06-29T13:08:37.380116Z",
     "start_time": "2025-06-29T13:08:37.365626Z"
    }
   },
   "cell_type": "code",
   "source": [
    "\n",
    "# Black-Scholes Function\n",
    "def bs_price(S, K, T, r, sigma, option_type=\"call\"):\n",
    "    d1 = (np.log(S / K) + (r + 0.5 * sigma ** 2) * T) / (sigma * np.sqrt(T))\n",
    "    d2 = d1 - sigma * np.sqrt(T)\n",
    "    if option_type == \"call\":\n",
    "        return S * norm.cdf(d1) - K * np.exp(-r * T) * norm.cdf(d2)\n",
    "    else:\n",
    "        return K * np.exp(-r * T) * norm.cdf(-d2) - S * norm.cdf(-d1)\n",
    "\n",
    "# Calculate theoretical prices\n",
    "bs_call = bs_price(S, K, T, r, IV_call, option_type=\"call\")\n",
    "bs_put = bs_price(S, K, T, r, IV_put, option_type=\"put\")"
   ],
   "id": "c75311e168556c72",
   "outputs": [],
   "execution_count": 9
  },
  {
   "metadata": {
    "ExecuteTime": {
     "end_time": "2025-06-29T13:08:50.138077Z",
     "start_time": "2025-06-29T13:08:50.125582Z"
    }
   },
   "cell_type": "code",
   "source": [
    "\n",
    "print(f\"📈 Call Option (ATM 25600): Market LTP = {LTP_call}, BS Price = {bs_call:.2f}\")\n",
    "print(f\"🧾 Status: {'Overpriced' if LTP_call > bs_call else 'Underpriced'}\")\n",
    "\n",
    "print(f\"\\n📉 Put Option (ATM 25600): Market LTP = {LTP_put}, BS Price = {bs_put:.2f}\")\n",
    "print(f\"🧾 Status: {'Overpriced' if LTP_put > bs_put else 'Underpriced'}\")"
   ],
   "id": "23d150aab6a5d3f5",
   "outputs": [
    {
     "name": "stdout",
     "output_type": "stream",
     "text": [
      "📈 Call Option (ATM 25600): Market LTP = 170.0, BS Price = 135.55\n",
      "🧾 Status: Overpriced\n",
      "\n",
      "📉 Put Option (ATM 25600): Market LTP = 107.4, BS Price = 90.13\n",
      "🧾 Status: Overpriced\n"
     ]
    }
   ],
   "execution_count": 10
  },
  {
   "metadata": {},
   "cell_type": "code",
   "outputs": [],
   "execution_count": null,
   "source": "",
   "id": "8fe80f87baf6eb07"
  }
 ],
 "metadata": {},
 "nbformat": 4,
 "nbformat_minor": 5
}
